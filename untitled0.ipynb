{
  "nbformat": 4,
  "nbformat_minor": 0,
  "metadata": {
    "colab": {
      "provenance": [],
      "authorship_tag": "ABX9TyPI964SP+1uh+ohwem3EG9D",
      "include_colab_link": true
    },
    "kernelspec": {
      "name": "python3",
      "display_name": "Python 3"
    },
    "language_info": {
      "name": "python"
    }
  },
  "cells": [
    {
      "cell_type": "markdown",
      "metadata": {
        "id": "view-in-github",
        "colab_type": "text"
      },
      "source": [
        "<a href=\"https://colab.research.google.com/github/miroslav540/bots_py/blob/main/untitled0.ipynb\" target=\"_parent\"><img src=\"https://colab.research.google.com/assets/colab-badge.svg\" alt=\"Open In Colab\"/></a>"
      ]
    },
    {
      "cell_type": "code",
      "execution_count": null,
      "metadata": {
        "colab": {
          "base_uri": "https://localhost:8080/",
          "height": 56
        },
        "id": "Gc-x1BGYM1Lp",
        "outputId": "abd1008a-c0bc-47a3-9754-14d48d9fdc3d"
      },
      "outputs": [
        {
          "output_type": "execute_result",
          "data": {
            "text/plain": [
              "sin(x)*sin(x + pi/4)**2/2"
            ],
            "text/latex": "$\\displaystyle \\frac{\\sin{\\left(x \\right)} \\sin^{2}{\\left(x + \\frac{\\pi}{4} \\right)}}{2}$"
          },
          "metadata": {},
          "execution_count": 6
        }
      ],
      "source": [
        "\n",
        "from sympy.abc import x\n",
        "from sympy import Symbol, solveset, solve, diff, plot, is_increasing, Interval, oo, is_decreasing, S \n",
        "from sympy import sin, cos, simplify, periodicity, pi, singularities, nonlinsolve\n",
        "x = Symbol('x', real=True)\n",
        "y = simplify((sin(x)/2 + cos(x)/2)**2 * sin(x))\n",
        "y"
      ]
    },
    {
      "cell_type": "code",
      "source": [
        "solveset(y, x)"
      ],
      "metadata": {
        "colab": {
          "base_uri": "https://localhost:8080/",
          "height": 58
        },
        "id": "hI91VRGRNiXQ",
        "outputId": "4c320e47-370f-43b8-a1e4-5c459bae7976"
      },
      "execution_count": null,
      "outputs": [
        {
          "output_type": "execute_result",
          "data": {
            "text/plain": [
              "Union(ImageSet(Lambda(_n, 2*_n*pi + 3*pi/4), Integers), ImageSet(Lambda(_n, 2*_n*pi + 7*pi/4), Integers), ImageSet(Lambda(_n, 2*_n*pi + pi), Integers), ImageSet(Lambda(_n, 2*_n*pi), Integers))"
            ],
            "text/latex": "$\\displaystyle \\left\\{2 n \\pi\\; |\\; n \\in \\mathbb{Z}\\right\\} \\cup \\left\\{2 n \\pi + \\pi\\; |\\; n \\in \\mathbb{Z}\\right\\} \\cup \\left\\{2 n \\pi + \\frac{3 \\pi}{4}\\; |\\; n \\in \\mathbb{Z}\\right\\} \\cup \\left\\{2 n \\pi + \\frac{7 \\pi}{4}\\; |\\; n \\in \\mathbb{Z}\\right\\}$"
          },
          "metadata": {},
          "execution_count": 5
        }
      ]
    },
    {
      "cell_type": "code",
      "source": [
        "derivate = diff(y)\n",
        "derivate"
      ],
      "metadata": {
        "colab": {
          "base_uri": "https://localhost:8080/",
          "height": 56
        },
        "id": "ggwYeDW-NmbX",
        "outputId": "73dbf3fe-7728-4d4a-d85d-14d116d94885"
      },
      "execution_count": null,
      "outputs": [
        {
          "output_type": "execute_result",
          "data": {
            "text/plain": [
              "sin(x)*sin(x + pi/4)*cos(x + pi/4) + sin(x + pi/4)**2*cos(x)/2"
            ],
            "text/latex": "$\\displaystyle \\sin{\\left(x \\right)} \\sin{\\left(x + \\frac{\\pi}{4} \\right)} \\cos{\\left(x + \\frac{\\pi}{4} \\right)} + \\frac{\\sin^{2}{\\left(x + \\frac{\\pi}{4} \\right)} \\cos{\\left(x \\right)}}{2}$"
          },
          "metadata": {},
          "execution_count": 7
        }
      ]
    },
    {
      "cell_type": "code",
      "source": [
        "periodicity(y, x)"
      ],
      "metadata": {
        "colab": {
          "base_uri": "https://localhost:8080/",
          "height": 38
        },
        "id": "N2y_e_xMNsv5",
        "outputId": "0a258183-e3e1-460b-e8d6-2d71c3b36783"
      },
      "execution_count": null,
      "outputs": [
        {
          "output_type": "execute_result",
          "data": {
            "text/plain": [
              "2*pi"
            ],
            "text/latex": "$\\displaystyle 2 \\pi$"
          },
          "metadata": {},
          "execution_count": 8
        }
      ]
    },
    {
      "cell_type": "code",
      "source": [
        "y.subs(x, 10+2*pi)"
      ],
      "metadata": {
        "colab": {
          "base_uri": "https://localhost:8080/",
          "height": 56
        },
        "id": "iZK0qfLNNwR9",
        "outputId": "657a53a5-2fd0-452e-80e3-b21a26f8889d"
      },
      "execution_count": null,
      "outputs": [
        {
          "output_type": "execute_result",
          "data": {
            "text/plain": [
              "sin(10)*sin(pi/4 + 10)**2/2"
            ],
            "text/latex": "$\\displaystyle \\frac{\\sin{\\left(10 \\right)} \\sin^{2}{\\left(\\frac{\\pi}{4} + 10 \\right)}}{2}$"
          },
          "metadata": {},
          "execution_count": 9
        }
      ]
    },
    {
      "cell_type": "code",
      "source": [
        "solve([x >= 0, x <= 2*pi, y], x)"
      ],
      "metadata": {
        "colab": {
          "base_uri": "https://localhost:8080/",
          "height": 58
        },
        "id": "2jwHh31yNyi1",
        "outputId": "1d610955-9b5e-484c-8284-0b0ebafcea48"
      },
      "execution_count": null,
      "outputs": [
        {
          "output_type": "execute_result",
          "data": {
            "text/plain": [
              "(0 <= x) & (x <= 2*pi) & (Eq(x, 0) | Eq(x, pi) | Eq(x, 3*pi/4) | Eq(x, 7*pi/4))"
            ],
            "text/latex": "$\\displaystyle 0 \\leq x \\wedge x \\leq 2 \\pi \\wedge \\left(x = 0 \\vee x = \\frac{3 \\pi}{4} \\vee x = \\pi \\vee x = \\frac{7 \\pi}{4}\\right)$"
          },
          "metadata": {},
          "execution_count": 11
        }
      ]
    },
    {
      "cell_type": "code",
      "source": [
        "period_derivate = periodicity(derivate, x)\n",
        "period_derivate"
      ],
      "metadata": {
        "colab": {
          "base_uri": "https://localhost:8080/",
          "height": 38
        },
        "id": "6X9LZ0rgN81X",
        "outputId": "2c6a75a8-e82a-42ea-e36e-3a2804915ad9"
      },
      "execution_count": null,
      "outputs": [
        {
          "output_type": "execute_result",
          "data": {
            "text/plain": [
              "2*pi"
            ],
            "text/latex": "$\\displaystyle 2 \\pi$"
          },
          "metadata": {},
          "execution_count": 12
        }
      ]
    },
    {
      "cell_type": "code",
      "source": [
        "x0 = list(solveset(derivate, x, Interval(0, period_derivate)).evalf(n=5))\n",
        "x0"
      ],
      "metadata": {
        "colab": {
          "base_uri": "https://localhost:8080/"
        },
        "id": "89BDBKKHN_x1",
        "outputId": "0f1aa42a-491c-4a5b-a05f-fe64de99c313"
      },
      "execution_count": null,
      "outputs": [
        {
          "output_type": "execute_result",
          "data": {
            "text/plain": [
              "[1.0591, 2.3562, 2.8679, 4.2007, 5.4978, 6.0095]"
            ]
          },
          "metadata": {},
          "execution_count": 13
        }
      ]
    },
    {
      "cell_type": "code",
      "source": [
        "x1 = [0, *x0, period_derivate.evalf(n=5)]\n",
        "x1"
      ],
      "metadata": {
        "colab": {
          "base_uri": "https://localhost:8080/"
        },
        "id": "aLXyyEXFODG4",
        "outputId": "de32c601-c7c1-4b99-8054-259f7f01ffe0"
      },
      "execution_count": null,
      "outputs": [
        {
          "output_type": "execute_result",
          "data": {
            "text/plain": [
              "[0, 1.0591, 2.3562, 2.8679, 4.2007, 5.4978, 6.0095, 6.2832]"
            ]
          },
          "metadata": {},
          "execution_count": 14
        }
      ]
    },
    {
      "cell_type": "code",
      "source": [
        "_list = []\n",
        "for i in range(0, len(x1)-1):\n",
        "    _list.append(((x1[i], x1[i+1]), \"Increase\" if derivate.subs(x, (x1[i]+x1[i+1])/2).evalf(5)>0 else \"Decrease\"))\n",
        "_list"
      ],
      "metadata": {
        "colab": {
          "base_uri": "https://localhost:8080/"
        },
        "id": "950_SMc4OFwP",
        "outputId": "7c820c5c-0493-46af-a8ca-3d15fd09a1b1"
      },
      "execution_count": null,
      "outputs": [
        {
          "output_type": "execute_result",
          "data": {
            "text/plain": [
              "[((0, 1.0591), 'Increase'),\n",
              " ((1.0591, 2.3562), 'Decrease'),\n",
              " ((2.3562, 2.8679), 'Increase'),\n",
              " ((2.8679, 4.2007), 'Decrease'),\n",
              " ((4.2007, 5.4978), 'Increase'),\n",
              " ((5.4978, 6.0095), 'Decrease'),\n",
              " ((6.0095, 6.2832), 'Increase')]"
            ]
          },
          "metadata": {},
          "execution_count": 15
        }
      ]
    },
    {
      "cell_type": "code",
      "source": [
        "graph = plot(y)"
      ],
      "metadata": {
        "colab": {
          "base_uri": "https://localhost:8080/",
          "height": 297
        },
        "id": "NTRYrwRuOHnJ",
        "outputId": "9fd8e8fb-b0af-49b1-b616-3df58d1301ea"
      },
      "execution_count": null,
      "outputs": [
        {
          "output_type": "display_data",
          "data": {
            "text/plain": [
              "<Figure size 432x288 with 1 Axes>"
            ],
            "image/png": "[encoded data removed]"
          },
          "metadata": {
            "needs_background": "light"
          }
        }
      ]
    },
    {
      "cell_type": "code",
      "source": [
        "graph = plot(y, derivate, xlim=(0, 2*pi))"
      ],
      "metadata": {
        "colab": {
          "base_uri": "https://localhost:8080/",
          "height": 297
        },
        "id": "OifIciPROJh5",
        "outputId": "ee3e3449-daab-4e63-97a7-70acc9faa3d8"
      },
      "execution_count": null,
      "outputs": [
        {
          "output_type": "display_data",
          "data": {
            "text/plain": [
              "<Figure size 432x288 with 1 Axes>"
            ],
            "image/png": "[encoded data removed]"
          },
          "metadata": {
            "needs_background": "light"
          }
        }
      ]
    },
    {
      "cell_type": "code",
      "source": [
        "y0 = list(map(lambda a: (a, y.subs(x, a).evalf(5, chop=True)), x0))\n",
        "y0"
      ],
      "metadata": {
        "colab": {
          "base_uri": "https://localhost:8080/"
        },
        "id": "RBPIDlCrOL9Z",
        "outputId": "b042c46e-6f20-4a7a-be79-bdad69fb8c2f"
      },
      "execution_count": null,
      "outputs": [
        {
          "output_type": "execute_result",
          "data": {
            "text/plain": [
              "[(1.0591, 0.40411),\n",
              " (2.3562, 0),\n",
              " (2.8679, 0.032404),\n",
              " (4.2007, -0.40411),\n",
              " (5.4978, 0),\n",
              " (6.0095, -0.032404)]"
            ]
          },
          "metadata": {},
          "execution_count": 18
        }
      ]
    },
    {
      "cell_type": "code",
      "source": [
        "solveset(y>0,x,S.Reals)"
      ],
      "metadata": {
        "colab": {
          "base_uri": "https://localhost:8080/",
          "height": 58
        },
        "id": "yoIoDRKrON1o",
        "outputId": "852b8614-4149-46bb-d286-df633d78229a"
      },
      "execution_count": null,
      "outputs": [
        {
          "output_type": "execute_result",
          "data": {
            "text/plain": [
              "Union(Interval.open(0, 3*pi/4), Interval.open(3*pi/4, pi))"
            ],
            "text/latex": "$\\displaystyle \\left(0, \\frac{3 \\pi}{4}\\right) \\cup \\left(\\frac{3 \\pi}{4}, \\pi\\right)$"
          },
          "metadata": {},
          "execution_count": 19
        }
      ]
    },
    {
      "cell_type": "code",
      "source": [
        "solveset(y<0,x,S.Reals)"
      ],
      "metadata": {
        "colab": {
          "base_uri": "https://localhost:8080/",
          "height": 58
        },
        "id": "jt15kLF_OSSx",
        "outputId": "f0e8e5a2-c85d-4192-e1be-64e9b9a06130"
      },
      "execution_count": null,
      "outputs": [
        {
          "output_type": "execute_result",
          "data": {
            "text/plain": [
              "Union(Interval.open(pi, 7*pi/4), Interval.open(7*pi/4, 2*pi))"
            ],
            "text/latex": "$\\displaystyle \\left(\\pi, \\frac{7 \\pi}{4}\\right) \\cup \\left(\\frac{7 \\pi}{4}, 2 \\pi\\right)$"
          },
          "metadata": {},
          "execution_count": 20
        }
      ]
    }
  ]
}